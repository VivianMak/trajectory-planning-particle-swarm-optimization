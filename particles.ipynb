{
 "cells": [
  {
   "cell_type": "code",
   "execution_count": null,
   "metadata": {
    "vscode": {
     "languageId": "plaintext"
    }
   },
   "outputs": [],
   "source": [
    "class Particles():\n",
    "    \"\"\"Represents a hypothesis (particle) of the robot's pose consisting of x,y and theta (yaw)\n",
    "    Attributes:\n",
    "        x: the x-coordinate of the hypothesis relative to the map frame\n",
    "        y: the y-coordinate of the hypothesis relative ot the map frame\n",
    "        theta: the yaw of the hypothesis relative to the map frame\n",
    "        w: the particle weight (the class does not ensure that particle weights are normalized\n",
    "    \"\"\"\n",
    "\n",
    "    def __init__(self, pos=[0, 0, 0], vel=0.0, alpha=1.0):\n",
    "        \"\"\"Construct a new Particle\n",
    "        : the x-coordinate of the hypothesis relative to the map frame\n",
    "        y: the y-coordinate of the hypothesis relative ot the map frame\n",
    "        alpha: the particle weight (the class does not ensure that particle weights are normalized\n",
    "        \"\"\"\n",
    "        self.alpha = alpha\n",
    "        self.pos = pos\n",
    "        self.vel = vel\n",
    "\n",
    "    def update()"
   ]
  }
 ],
 "metadata": {
  "language_info": {
   "name": "python"
  }
 },
 "nbformat": 4,
 "nbformat_minor": 2
}
